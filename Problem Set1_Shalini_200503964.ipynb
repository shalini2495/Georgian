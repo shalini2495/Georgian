{
 "cells": [
  {
   "cell_type": "markdown",
   "id": "e400a049",
   "metadata": {},
   "source": [
    "Problem Set 1"
   ]
  },
  {
   "cell_type": "markdown",
   "id": "811d445a",
   "metadata": {},
   "source": [
    "Question 1\n",
    "What data type is each of the following (evaluate where necessary)?\n",
    "5\n",
    "5.0\n",
    "5 > 1\n",
    "'5'\n",
    "5 * 2\n",
    "'5' * 2\n",
    "'5' + '2'\n",
    "5 / 2\n",
    "5 % 2\n",
    "{5, 2, 1}\n",
    "5 == 3\n",
    "Pi (the number)\n",
    " \n",
    "Answer 1\n",
    "Data type for following expressions are:\n",
    "5      - int\n",
    "5.0    - float\n",
    "5 > 1  - bool\n",
    "'5'    - str\n",
    "5 * 2  - int\n",
    "'5' * 2- str\n",
    "'5' + '2'-str\n",
    "5 / 2    -float\n",
    "5 % 2    - int\n",
    "{5, 2, 1}- set\n",
    "5 == 3 - bool\n",
    "Pi (the number) - float"
   ]
  },
  {
   "cell_type": "code",
   "execution_count": 6,
   "id": "aac9c71e",
   "metadata": {},
   "outputs": [
    {
     "name": "stdout",
     "output_type": "stream",
     "text": [
      "type of a:  <class 'int'>\n",
      "type of b:  <class 'float'>\n",
      "type of c:  <class 'bool'>\n",
      "type of d:  <class 'str'>\n",
      "type of e:  <class 'int'>\n",
      "type of f:  <class 'str'>\n",
      "type of g:  <class 'str'>\n",
      "type of h:  <class 'float'>\n",
      "type of i:  <class 'int'>\n",
      "type of j:  <class 'set'>\n",
      "type of k:  <class 'bool'>\n",
      "type of l:  <class 'float'>\n"
     ]
    }
   ],
   "source": [
    "a = 5\n",
    "b = 5.0\n",
    "c = 5>1\n",
    "d = '5'\n",
    "e = 5*2\n",
    "f = '5'*2\n",
    "g = '5' + '2'\n",
    "h = 5 / 2\n",
    "i = 5 % 2\n",
    "j = {5, 2, 1}\n",
    "k = (5 == 3)\n",
    "l = 3.14\n",
    "print('type of a: ', type(a))\n",
    "print('type of b: ', type(b))\n",
    "print('type of c: ', type(c))\n",
    "print('type of d: ', type(d))\n",
    "print('type of e: ', type(e))\n",
    "print('type of f: ', type(f))\n",
    "print('type of g: ', type(g))\n",
    "print('type of h: ', type(h))\n",
    "print('type of i: ', type(i))\n",
    "print('type of j: ', type(j))\n",
    "print('type of k: ', type(k))\n",
    "print('type of l: ', type(l))"
   ]
  },
  {
   "cell_type": "raw",
   "id": "46ad9a14",
   "metadata": {},
   "source": [
    "Question 2\n",
    "Write (and evaluate) python expressions that answer these questions:\n",
    "a. How many letters are there in 'Supercalifragilisticexpialidocious'?\n",
    "b. Does 'Supercalifragilisticexpialidocious' contain 'ice' as a substring? \n",
    "c. Which of the following words is the longest:\n",
    "Supercalifragilisticexpialidocious, Honorificabilitudinitatibus, or\n",
    "Bababadalgharaghtakamminarronnkonn?\n",
    "d. Which composer comes first in the dictionary: 'Berlioz', 'Borodin', 'Brian',\n",
    "'Bartok', 'Bellini', 'Buxtehude', 'Bernstein'. Which one comes last?"
   ]
  },
  {
   "cell_type": "markdown",
   "id": "7e7b231e",
   "metadata": {},
   "source": [
    " Ans (a) Code below provides the count of letters"
   ]
  },
  {
   "cell_type": "code",
   "execution_count": 19,
   "id": "ad3801ac",
   "metadata": {},
   "outputs": [
    {
     "name": "stdout",
     "output_type": "stream",
     "text": [
      "34\n"
     ]
    }
   ],
   "source": [
    "string = 'Supercalifragilisticexpialidocious'\n",
    "print(len(string))"
   ]
  },
  {
   "cell_type": "markdown",
   "id": "07e871c5",
   "metadata": {},
   "source": [
    "Ans (b) Code below answers if the substring 'ice' exists in sting 'Supercalifragilisticexpialidocious'"
   ]
  },
  {
   "cell_type": "code",
   "execution_count": 33,
   "id": "a0ac0ccf",
   "metadata": {},
   "outputs": [
    {
     "name": "stdout",
     "output_type": "stream",
     "text": [
      "True\n"
     ]
    }
   ],
   "source": [
    "string = 'Supercalifragilisticexpialidocious'\n",
    "print(string.find('ice') > -1)"
   ]
  },
  {
   "cell_type": "markdown",
   "id": "24576a14",
   "metadata": {},
   "source": [
    "Ans (c) The code below provides the output of longest string"
   ]
  },
  {
   "cell_type": "code",
   "execution_count": 43,
   "id": "a92b0981",
   "metadata": {},
   "outputs": [
    {
     "name": "stdout",
     "output_type": "stream",
     "text": [
      "The longest string is: Supercalifragilisticexpialidocious\n"
     ]
    }
   ],
   "source": [
    "string_list = ['Supercalifragilisticexpialidocious', 'Honorificabilitudinitatibus', 'Bababadalgharaghtakamminarronnkonn']\n",
    "print('The longest string is:', max(string_list))"
   ]
  },
  {
   "cell_type": "markdown",
   "id": "646c0c04",
   "metadata": {},
   "source": [
    "Ans (d) Expression below sorts the list of composers alphabeticallly"
   ]
  },
  {
   "cell_type": "code",
   "execution_count": 1,
   "id": "0eeae8f2",
   "metadata": {},
   "outputs": [
    {
     "name": "stdout",
     "output_type": "stream",
     "text": [
      "['Bartok', 'Bellini', 'Berlioz', 'Bernstein', 'Borodin', 'Brian', 'Buxtehude']\n"
     ]
    }
   ],
   "source": [
    "composer_list = ['Berlioz', 'Borodin', 'Brian', 'Bartok', 'Bellini', 'Buxtehude', 'Bernstein']\n",
    "composer_list.sort()\n",
    "print(composer_list)"
   ]
  },
  {
   "cell_type": "markdown",
   "id": "f3fe017a",
   "metadata": {},
   "source": [
    "Question 3\n",
    "Implement function triangleArea(a,b,c) that takes as input the lengths of the 3\n",
    "sides of a triangle and returns the area of the triangle. By Heron's formula, the area\n",
    "of a triangle with side lengths a, b, and c is\n",
    "s(s - a)(s -b)(s -c)\n",
    ", where\n",
    "s = (a+b+c)/2.\n",
    ">>> triangleArea(2,2,2)\n",
    "1.7320508075688772"
   ]
  },
  {
   "cell_type": "code",
   "execution_count": 26,
   "id": "0c2c48c9",
   "metadata": {},
   "outputs": [
    {
     "name": "stdout",
     "output_type": "stream",
     "text": [
      "Enter first side: 4\n",
      "Enter second side: 5\n",
      "Enter third side: 3\n",
      "Area of the triangle is: 36.0\n"
     ]
    },
    {
     "data": {
      "text/plain": [
       "36.0"
      ]
     },
     "execution_count": 26,
     "metadata": {},
     "output_type": "execute_result"
    }
   ],
   "source": [
    "a = float(input('Enter first side: '))\n",
    "b = float(input('Enter second side: '))\n",
    "c = float(input('Enter third side: '))\n",
    "def triangleArea(a,b,c):\n",
    "        s = (a+b+c)/2\n",
    "        area = s*(s-a)*(s-b)*(s-c)\n",
    "        if area > 0:\n",
    "            print('Area of the triangle is:', area)\n",
    "            return area\n",
    "        print('invalid values')\n",
    "    \n",
    "triangleArea(a,b,c)"
   ]
  },
  {
   "cell_type": "markdown",
   "id": "673d167d",
   "metadata": {},
   "source": [
    "Question 4\n",
    "Write a program in python to separate odd and even integers in separate arrays. Go\n",
    "to the editor\n",
    "Test Data :\n",
    "Input the number of elements to be stored in the array :5\n",
    "Input 5 elements in the array :\n",
    "element - 0 : 25\n",
    "element - 1 : 47\n",
    "element - 2 : 42\n",
    "element - 3 : 56\n",
    "element - 4 : 32\n",
    "Expected Output:\n",
    "The Even elements are:\n",
    "42 56 32\n",
    "The Odd elements are :\n",
    "25 47"
   ]
  },
  {
   "cell_type": "code",
   "execution_count": 3,
   "id": "4c0a4265",
   "metadata": {},
   "outputs": [
    {
     "name": "stdout",
     "output_type": "stream",
     "text": [
      "Enter the number of elements you want in array: 5\n",
      "33\n",
      "66\n",
      "4\n",
      "21\n",
      "35\n",
      "Array of even numbers:  [66, 4]\n",
      "Array of odd numbers:  [33, 21, 35]\n"
     ]
    }
   ],
   "source": [
    "array_odd = []\n",
    "array_even = []\n",
    "n = int(input('Enter the number of elements you want in array: '))\n",
    "for x in range(0,n):\n",
    "    element = int(input())\n",
    "    if (element % 2) == 0 :\n",
    "        array_even.append(element)\n",
    "    if (element % 2) != 0 :\n",
    "        array_odd.append(element)\n",
    "print('Array of even numbers: ', array_even)\n",
    "print('Array of odd numbers: ', array_odd)\n"
   ]
  },
  {
   "cell_type": "markdown",
   "id": "2a70727b",
   "metadata": {},
   "source": [
    "Question 5\n",
    "a. Write a function inside(x,y,x1,y1,x2,y2) that returns True or False\n",
    "depending on whether the point (x,y) lies in the rectangle with lower left\n",
    "corner (x1,y1) and upper right corner (x2,y2).\n",
    ">>> inside(1,1,0,0,2,3)\n",
    "True\n",
    ">>> inside(-1,-1,0,0,2,3)\n",
    "False\n",
    "b. Use function inside() from part a. to write an expression that tests whether\n",
    "the point (1,1) lies in both of the following rectangles: one with lower left\n",
    "corner (0.3, 0.5) and upper right corner (1.1, 0.7) and the other with lower\n",
    "left corner (0.5, 0.2) and upper right corner (1.1, 2). "
   ]
  },
  {
   "cell_type": "code",
   "execution_count": 16,
   "id": "f57287e3",
   "metadata": {},
   "outputs": [
    {
     "name": "stdout",
     "output_type": "stream",
     "text": [
      "Enter value for x: 2\n",
      "Enter value for y: 2\n",
      "Enter value for x1: 0\n",
      "Enter value for y1: 0\n",
      "Enter value for x2: 4\n",
      "Enter value for y2: 4\n",
      "Result for part a is:  True\n",
      "Result for part b is:  True\n"
     ]
    }
   ],
   "source": [
    "#Part a\n",
    "x = float(input('Enter value for x: '))\n",
    "y = float(input('Enter value for y: '))\n",
    "x1 = float(input('Enter value for x1: '))\n",
    "y1 = float(input('Enter value for y1: '))\n",
    "x2 = float(input('Enter value for x2: '))\n",
    "y2 = float(input('Enter value for y2: '))\n",
    "def inside(x,y,x1,y1,x2,y2):\n",
    "    if x >= x1 and x <= x2 and y >= y1 and y<= y2:\n",
    "         return True\n",
    "    return False\n",
    "print('Result for part a is: ', inside(x,y,x1,y1,x2,y2))\n",
    "\n",
    "#part b\n",
    "print('Result for part b is: ', inside(1,1,0.3,0.5,1.1,2))"
   ]
  },
  {
   "cell_type": "raw",
   "id": "5a9ab0c1",
   "metadata": {},
   "source": [
    "Question 6\n",
    "16. You can turn a word into pig-Latin using the following two rules (simplified):\n",
    "• If the word starts with a consonant, move that letter to the end and append\n",
    "'ay'. For example, 'happy' becomes 'appyhay' and 'pencil' becomes 'encilpay'.\n",
    "• If the word starts with a vowel, simply append 'way' to the end of the word.\n",
    "For example, 'enter' becomes 'enterway' and 'other' becomes 'otherway' . For\n",
    "our purposes, there are 5 vowels: a, e, i, o, u (so we count y as a consonant).\n",
    "Write a function pig() that takes a word (i.e., a string) as input and returns its pigLatin form. Your function should still work if the input word contains upper case\n",
    "characters. Your output should always be lower case however.\n",
    ">>> pig('happy')\n",
    "'appyhay'\n",
    ">>> pig('Enter')\n",
    "'enterway' "
   ]
  },
  {
   "cell_type": "code",
   "execution_count": 43,
   "id": "13a4aba7",
   "metadata": {},
   "outputs": [
    {
     "name": "stdout",
     "output_type": "stream",
     "text": [
      "Enter a string: Parts\n",
      "The pig latin form of string is:  artsPay\n"
     ]
    }
   ],
   "source": [
    "string = str(input('Enter a string: '))\n",
    "vowels = ['a','e','i','o','u','A','E','I','O','U']\n",
    "def pig(string):\n",
    "    words = list(string)\n",
    "    word = []\n",
    "    if words[0] in vowels:\n",
    "            word = ''.join(words[1:]) + 'way'\n",
    "            return word\n",
    "    first_char = words.pop(0)\n",
    "    word = ''.join(words) + first_char + 'ay'\n",
    "    return word\n",
    "\n",
    "print('The pig latin form of string is: ', pig(string))"
   ]
  },
  {
   "cell_type": "markdown",
   "id": "c7717cff",
   "metadata": {},
   "source": [
    "Question 7\n",
    "File bloodtype1.txt records blood-types of patients (A, B, AB, O or OO) at a clinic.\n",
    "Write a function bldcount() that reads the file with name name and reports (i.e.,\n",
    "prints) how many patients there are in each bloodtype.\n",
    ">>> bldcount('bloodtype.txt')\n",
    "There are 10 patients of blood type A.\n",
    "There is one patient of blood type B.\n",
    "There are 10 patients of blood type AB.\n",
    "There are 12 patients of blood type O.\n",
    "There are no patients of blood type OO.\n"
   ]
  },
  {
   "cell_type": "code",
   "execution_count": 73,
   "id": "9a763bf7",
   "metadata": {},
   "outputs": [
    {
     "name": "stdout",
     "output_type": "stream",
     "text": [
      "AB : 13\n",
      "B : 1\n",
      "O : 15\n",
      "A : 15\n"
     ]
    }
   ],
   "source": [
    "f = open(\"bloodtype1.txt\", \"r\")\n",
    "blood_data = (f.read())\n",
    "blood_array = blood_data.split(\" \")\n",
    "def bloodcount(arr):\n",
    "    elements_count = {}\n",
    "    for element in arr:\n",
    "        if element in elements_count:\n",
    "            elements_count[element] += 1\n",
    "        else:\n",
    "            elements_count[element] = 1\n",
    "    for key, value in elements_count.items():\n",
    "        print(key , \":\" , value)\n",
    "bloodcount(blood_array)"
   ]
  },
  {
   "cell_type": "markdown",
   "id": "9a38c317",
   "metadata": {},
   "source": [
    "Question 8\n",
    "Write a function curconv() that takes as input:\n",
    "1. a currency represented using a string (e.g., 'JPY' for the Japanese Yen or\n",
    "'EUR' for the Euro)\n",
    "2. an amount\n",
    "and then converts and returns the amount in US dollars.\n",
    ">>> curconv('EUR', 100)\n",
    "122.96544\n",
    ">>> curconv('JPY', 100)\n",
    "1.241401\n",
    "The currency rates you will need are stored in file currencies.txt"
   ]
  },
  {
   "cell_type": "code",
   "execution_count": 94,
   "id": "5bd1759b",
   "metadata": {},
   "outputs": [
    {
     "data": {
      "text/plain": [
       "122.96544"
      ]
     },
     "execution_count": 94,
     "metadata": {},
     "output_type": "execute_result"
    }
   ],
   "source": [
    "f = open(\"currencies.txt\", \"r\")\n",
    "#currency_data = (f.read())\n",
    "#currency_array = currency_data.split(\" \")\n",
    "lines=f.readlines()\n",
    "result=[]\n",
    "currencies_obj = {}\n",
    "for x in lines:\n",
    "    result.append(x.rstrip('\\n').split('\\t'))\n",
    "for currency in result:\n",
    "    currencies_obj[currency[0]] = currency[1]\n",
    "f.close()\n",
    "def curconv(cur, quantity):\n",
    "    return float(currencies_obj[cur])*quantity\n",
    "curconv('EUR', 100)\n"
   ]
  },
  {
   "cell_type": "markdown",
   "id": "4e07acea",
   "metadata": {},
   "source": [
    "Question 9\n",
    "Each of the following will cause an exception (an error). Identify what type of\n",
    "exception each will cause.\n",
    "Trying to add incompatible variables, as in\n",
    "adding 6 + ‘a’ \n",
    "\n",
    "Ans- TypeError\n",
    "\n",
    "Referring to the 12th item of a list that has only 10\n",
    "items\n",
    "\n",
    "Ans- IndexError\n",
    "\n",
    "Using a value that is out of range for a function’s\n",
    "input, such as calling math.sqrt(-1.0)\n",
    "\n",
    "Ans- ValueError\n",
    "\n",
    "Using an undeclared variable, such as print(x)\n",
    "when x has not been defined\n",
    "\n",
    "Ans- NameError\n",
    "\n",
    "Trying to open a file that does not exist, such as\n",
    "mistyping the file name or looking in the wrong\n",
    "directory.\n",
    "\n",
    "Ans- FileNotFoundError "
   ]
  },
  {
   "cell_type": "markdown",
   "id": "81fb97da",
   "metadata": {},
   "source": [
    "Question 10\n",
    "Encryption is the process of hiding the meaning of a text by substituting letters in the\n",
    "message with other letters, according to some system. If the process is successful, no\n",
    "one but the intended recipient can understand the encrypted message. Cryptanalysis\n",
    "refers to attempts to undo the encryption, even if some details of the encryption are\n",
    "unknown (for example, if an encrypted message has been intercepted). The first step\n",
    "of cryptanalysis is often to build up a table of letter frequencies in the encrypted text.\n",
    "Assume that the string letters is already defined as\n",
    "'abcdefghijklmnopqrstuvwxyz'. Write a function called frequencies()\n",
    "that takes a string as its only parameter, and returns a list of integers, showing the\n",
    "number of times each character appears in the text. Your function may ignore any\n",
    "characters that are not in letters.\n",
    ">>> frequencies('The quick red fox got bored and went home.')\n",
    "[1, 1, 1, 3, 5, 1, 1, 2, 1, 0, 1, 0, 1, 2, 4, 0, 1, 2, 0, 2,\n",
    "1, 0, 1, 1, 0, 0]\n",
    ">>> frequencies('apple')"
   ]
  },
  {
   "cell_type": "code",
   "execution_count": 5,
   "id": "889230b1",
   "metadata": {},
   "outputs": [
    {
     "name": "stdout",
     "output_type": "stream",
     "text": [
      "Enter a string: The quick red fox got bored and went home\n",
      "dict_values([1, 1, 1, 3, 5, 1, 1, 2, 1, 0, 1, 0, 1, 2, 4, 0, 1, 2, 0, 2, 1, 0, 1, 1, 0, 0])\n"
     ]
    }
   ],
   "source": [
    "from collections import Counter\n",
    "string = str(input('Enter a string: '))\n",
    "alphabet = \"abcdefghijklmnopqrstuvwxyz\"\n",
    "alphabet_table = {}\n",
    "arr = []\n",
    "for alpha in list(alphabet):\n",
    "    alphabet_table[alpha] = 0\n",
    "def frequencies(STRING):\n",
    "    string_array = list(STRING.replace(' ', ''))\n",
    "    freq = (Counter(string_array))\n",
    "    for key, value in freq.items():\n",
    "        alphabet_table[key.lower()] = value\n",
    "    print(alphabet_table.values())\n",
    "frequencies(string)\n"
   ]
  },
  {
   "cell_type": "code",
   "execution_count": null,
   "id": "4bf8dd51",
   "metadata": {},
   "outputs": [],
   "source": []
  }
 ],
 "metadata": {
  "kernelspec": {
   "display_name": "Python 3 (ipykernel)",
   "language": "python",
   "name": "python3"
  },
  "language_info": {
   "codemirror_mode": {
    "name": "ipython",
    "version": 3
   },
   "file_extension": ".py",
   "mimetype": "text/x-python",
   "name": "python",
   "nbconvert_exporter": "python",
   "pygments_lexer": "ipython3",
   "version": "3.9.12"
  }
 },
 "nbformat": 4,
 "nbformat_minor": 5
}
