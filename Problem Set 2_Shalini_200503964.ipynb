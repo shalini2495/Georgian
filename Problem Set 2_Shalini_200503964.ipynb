{
 "cells": [
  {
   "cell_type": "markdown",
   "id": "76977eda",
   "metadata": {},
   "source": [
    "PROBLEM SET 2"
   ]
  },
  {
   "cell_type": "markdown",
   "id": "5d081169",
   "metadata": {},
   "source": [
    "Question 1\n",
    "Consider the following Python module:\n",
    "a = 0\n",
    "def b():\n",
    " global a\n",
    " a = c(a)\n",
    "def c(a):\n",
    " return a + 2\n",
    "After importing the module into the interpreter, you execute:\n",
    ">>> b()\n",
    ">>> b()\n",
    ">>> b()\n",
    ">>> a\n",
    "?\n",
    "What value is displayed when the last expression (a) is evaluated? Explain your \n",
    "answer by indicating what happens in every executed statement."
   ]
  },
  {
   "cell_type": "markdown",
   "id": "4e866da4",
   "metadata": {},
   "source": [
    "Answer- The final output will be '6'. When we execute function 'b' for the first time, the value of 'a' passed is '0', again '0' is passed in function 'c' and it returns (0+2) = 2. Now the value of 'a' is 2. When we execute function 'b' for the second time, the value of 'a' passed is '2', again '2' is passed in function 'c' and it returns (2+2) = 4. Now the value of 'a' is 4. When we execute function 'b' for the third time, the value of 'a' passed is '4', again '4' is passed in function 'c' and it returns (4+2) = 6. Now the value of 'a' is 6. \n",
    "Hence, the final output will be 6."
   ]
  },
  {
   "cell_type": "code",
   "execution_count": 2,
   "id": "ce11b542",
   "metadata": {},
   "outputs": [
    {
     "name": "stdout",
     "output_type": "stream",
     "text": [
      "6\n"
     ]
    }
   ],
   "source": [
    "a = 0\n",
    "def b():\n",
    " global a\n",
    " a = c(a)\n",
    "def c(a):\n",
    " return a + 2\n",
    "b()\n",
    "b()\n",
    "b()\n",
    "print(a)"
   ]
  },
  {
   "cell_type": "markdown",
   "id": "41910740",
   "metadata": {},
   "source": [
    "Question 2\n",
    "Function fileLength(), given to you, takes the name of a file as input and returns \n",
    "the length of the file:\n",
    ">>> fileLength('midterm.py')\n",
    "284\n",
    ">>> fileLength('idterm.py')\n",
    "Traceback (most recent call last):\n",
    "File \"<pyshell#34>\", line 1, in <module>\n",
    " fileLength('idterm.py')\n",
    "File \"/Users/me/midterm.py\", line 3, in fileLength\n",
    " infile = open(filename)\n",
    "FileNotFoundError: [Errno 2] No such file or directory: \n",
    "'idterm.py'\n",
    "As shown above, if the file cannot be found by the interpreter or if it cannot be read \n",
    "as a text file, an exception will be raised. Modify function fileLength() so that a \n",
    "friendly message is printed instead:\n",
    ">>> fileLength('midterm.py')\n",
    "358\n",
    ">>> fileLength('idterm.py')\n",
    "File idterm.py not found.\n"
   ]
  },
  {
   "cell_type": "markdown",
   "id": "cfa9916e",
   "metadata": {},
   "source": [
    "Answer"
   ]
  },
  {
   "cell_type": "code",
   "execution_count": 3,
   "id": "d51d7f8a",
   "metadata": {},
   "outputs": [
    {
     "name": "stdout",
     "output_type": "stream",
     "text": [
      "123\n",
      "File worngFileName.txt not found\n"
     ]
    }
   ],
   "source": [
    "def fileLength(fileName):\n",
    "    try:\n",
    "        f = open(fileName, \"r\");\n",
    "        print(len(f.read()))\n",
    "        f.close()\n",
    "    except:\n",
    "        print(\"File %s not found\"%(fileName))\n",
    "        \n",
    "fileLength(\"FileLength.txt\")\n",
    "fileLength(\"worngFileName.txt\")"
   ]
  },
  {
   "cell_type": "markdown",
   "id": "2822630d",
   "metadata": {},
   "source": [
    "Question 3\n",
    "Write a class named Marsupial that can be used as shown below:\n",
    ">>> m = Marsupial()\n",
    ">>> m.put_in_pouch('doll')\n",
    ">>> m.put_in_pouch('firetruck')\n",
    ">>> m.put_in_pouch('kitten')\n",
    ">>> m.pouch_contents()\n",
    "['doll', 'firetruck', 'kitten']\n",
    "Now write a class named Kangaroo as a subclass of Marsupial that inherits all the \n",
    "attributes of Marsupial and also:\n",
    "a. extends the Marsupial __init__ constructor to take, as input, the \n",
    "coordinates x and y of the Kangaroo object,\n",
    "b. supports method jump that takes number values dx and dy as input and \n",
    "moves the kangaroo by dx units along the x-axis and by dy units along the y\u0002axis, and\n",
    "c. overloads the __str__ operator so it behaves as shown below.\n",
    ">>> k = Kangaroo(0,0)\n",
    ">>> print(k)\n",
    "I am a Kangaroo located at coordinates (0,0)\n",
    ">>> k.put_in_pouch('doll')\n",
    ">>> k.put_in_pouch('firetruck')\n",
    ">>> k.put_in_pouch('kitten')\n",
    ">>> k.pouch_contents()\n",
    "['doll', 'firetruck', 'kitten']\n",
    ">>> k.jump(1,0)\n",
    ">>> k.jump(1,0)\n",
    ">>> k.jump(1,0)\n",
    ">>> print(k)\n",
    "I am a Kangaroo located at coordinates (3,0)"
   ]
  },
  {
   "cell_type": "markdown",
   "id": "cc792263",
   "metadata": {},
   "source": [
    "Answer - 3"
   ]
  },
  {
   "cell_type": "code",
   "execution_count": 4,
   "id": "79121f9e",
   "metadata": {},
   "outputs": [
    {
     "name": "stdout",
     "output_type": "stream",
     "text": [
      "I am a Kangaroo located at coordinates (0, 0)\n",
      "['doll', 'firetruck', 'kitten']\n",
      "I am a Kangaroo located at coordinates (3, 0)\n"
     ]
    }
   ],
   "source": [
    "class Marsupial(object):\n",
    "        def __init__(self):\n",
    "            self.contents = []\n",
    "        def put_in_pouch(self, thing):\n",
    "            self.contents.append(thing)\n",
    "        def pouch_contents(self):\n",
    "            print(self.contents)\n",
    "\n",
    "\n",
    "class Kangaroo(Marsupial):\n",
    "    def __init__(self, x, y):\n",
    "        super(Kangaroo, self).__init__()\n",
    "        self.x = x\n",
    "        self.y = y\n",
    "    def jump(self, dx, dy):\n",
    "        self.x = self.x + dx\n",
    "        self.y = self.y + dy\n",
    "    \n",
    "    def __str__(self):\n",
    "        return \"I am a Kangaroo located at coordinates ({}, {})\".format(self.x, self.y)\n",
    "    \n",
    "k = Kangaroo(0,0)\n",
    "print(k)\n",
    "k.put_in_pouch(\"doll\")\n",
    "k.put_in_pouch(\"firetruck\")\n",
    "k.put_in_pouch(\"kitten\")\n",
    "k.pouch_contents()\n",
    "k.jump(1,0)\n",
    "k.jump(1,0)\n",
    "k.jump(1,0)\n",
    "print(k)\n",
    "    \n",
    "    "
   ]
  },
  {
   "cell_type": "markdown",
   "id": "5d6bbfb0",
   "metadata": {},
   "source": [
    "Question 4\n",
    "Write function collatz() that takes a positive integer x as input and prints the \n",
    "Collatz sequence starting at x. A Collatz sequence is obtained by repeatedly applying \n",
    "this rule to the previous number x in the sequence:\n",
    "x = {\n",
    "𝑥/2 𝑖𝑓 𝑥 𝑖𝑠 𝑒𝑣𝑒𝑛\n",
    "3𝑥 + 1 𝑖𝑓 𝑥 𝑖𝑠 𝑜𝑑𝑑\n",
    "Your function should stop when the sequence gets to number 1. Your \n",
    "implementation must be recursive, without any loops.\n",
    ">>> collatz(1)\n",
    "1\n",
    ">>> collatz(10)\n",
    "10\n",
    "5\n",
    "16\n",
    "8\n",
    "4\n",
    "2\n",
    "1"
   ]
  },
  {
   "cell_type": "markdown",
   "id": "22b5895f",
   "metadata": {},
   "source": [
    "Answer"
   ]
  },
  {
   "cell_type": "code",
   "execution_count": 5,
   "id": "6e909c70",
   "metadata": {},
   "outputs": [
    {
     "name": "stdout",
     "output_type": "stream",
     "text": [
      "9\n",
      "28\n",
      "14\n",
      "7\n",
      "22\n",
      "11\n",
      "34\n",
      "17\n",
      "52\n",
      "26\n",
      "13\n",
      "40\n",
      "20\n",
      "10\n",
      "5\n",
      "16\n",
      "8\n",
      "4\n",
      "2\n",
      "1\n"
     ]
    }
   ],
   "source": [
    "def collatz(num):\n",
    "    if num > 0:\n",
    "        print(int(num))\n",
    "        if(num == 1):\n",
    "            return\n",
    "        elif(num % 2 == 0):\n",
    "            return collatz(num/2)\n",
    "        else:\n",
    "            return collatz((3 * num) + 1)\n",
    "    else:\n",
    "        print(\"Please enter a positive integer greater than 0.\")\n",
    "collatz(9)"
   ]
  },
  {
   "cell_type": "markdown",
   "id": "b86d6884",
   "metadata": {},
   "source": [
    "Question 5\n",
    "Write a recursive method binary() that takes a non-negative \n",
    "integer n and prints the binary representation of integer n.\n",
    ">>> binary(0)\n",
    "0\n",
    ">>> binary(1)\n",
    "1\n",
    ">>> binary(3)\n",
    "11\n",
    ">>> binary(9)\n",
    "1001"
   ]
  },
  {
   "cell_type": "markdown",
   "id": "62bc6c47",
   "metadata": {},
   "source": [
    "Answer"
   ]
  },
  {
   "cell_type": "code",
   "execution_count": 6,
   "id": "c05f8823",
   "metadata": {},
   "outputs": [
    {
     "data": {
      "text/plain": [
       "1110"
      ]
     },
     "execution_count": 6,
     "metadata": {},
     "output_type": "execute_result"
    }
   ],
   "source": [
    "binaryNum = \"\"\n",
    "def binary(num):\n",
    "    global binaryNum\n",
    "    if num > 1:\n",
    "        binary(num//2)\n",
    "    binaryNum += str(num % 2)\n",
    "    return int(binaryNum)\n",
    "#binary(0)\n",
    "#binary(1)\n",
    "#binary(3)\n",
    "binary(14)"
   ]
  },
  {
   "cell_type": "markdown",
   "id": "412d810f",
   "metadata": {},
   "source": [
    "Question 6\n",
    "Implement a class named HeadingParser that can be used to parse an HTML \n",
    "document, and retrieve and print all the headings in the document. You should \n",
    "implement your class as a subclass of HTMLParser, defined in Standard Library \n",
    "module html.parser. When fed a string containing HTML code, your class should \n",
    "print the headings, one per line and in the order in which they appear in the \n",
    "document. Each heading should be indented as follows: an h1 heading should have indentation 0, and h2 heading should have indentation 1, etc. Test your \n",
    "implementation using w3c.html.\n",
    ">>> infile = open('w3c.html')\n",
    ">>> content = infile.read()\n",
    ">>> infile.close()\n",
    ">>> hp = HeadingParser()\n",
    ">>> hp.feed(content)\n",
    "W3C Mission\n",
    "Principles"
   ]
  },
  {
   "cell_type": "markdown",
   "id": "4776cf46",
   "metadata": {},
   "source": [
    "Answer"
   ]
  },
  {
   "cell_type": "code",
   "execution_count": 7,
   "id": "296be353",
   "metadata": {},
   "outputs": [
    {
     "name": "stdout",
     "output_type": "stream",
     "text": [
      "W3C Mission\n",
      "\n",
      "\t\n",
      "\tPrinciples\n",
      "\t\n",
      " \n",
      "\n",
      "\n",
      "\n",
      "\t\n",
      "\n"
     ]
    }
   ],
   "source": [
    "from html.parser import HTMLParser\n",
    "\n",
    "class HeadingParser(HTMLParser):\n",
    "    inHeading = False\n",
    "    headingTag = \"\"\n",
    "    def handle_starttag(self, tag, attrs):\n",
    "        if tag == \"h1\" or tag == \"h2\" or tag == \"h3\" or tag == \"h4\" or tag == \"h5\" or tag == \"h6\":\n",
    "            self.inHeading = True\n",
    "            self.headingTag = tag\n",
    "    def handle_data(self, data):\n",
    "        if self.headingTag == \"h1\":\n",
    "            print(\"{}\".format(data))\n",
    "        elif self.headingTag == \"h2\":\n",
    "            print(\"\\t{}\".format(data))\n",
    "        elif self.headingTag == \"h3\":\n",
    "            print(\"\\t\\t{}\".format(data))\n",
    "        elif self.headingTag == \"h4\":\n",
    "            print(\"\\t\\t\\t{}\".format(data))\n",
    "        elif self.headingTag == \"h5\":\n",
    "            print(\"\\t\\t\\t\\t{}\".format(data))\n",
    "        elif self.headingTag == \"h6\":\n",
    "            print(\"\\t\\t\\t\\t\\t{}\".format(data))\n",
    "    def handle_endtag(self, tag):\n",
    "        if tag == \"h1\" or tag == \"h2\" or tag == \"h3\" or tag == \"h4\" or tag == \"h5\" or tag == \"h6\":\n",
    "            self.inHeading = False\n",
    "\n",
    "hParser = HeadingParser()\n",
    "file = open(\"w3c.html\", \"r\")\n",
    "html = file.read()\n",
    "file.close()\n",
    "hParser.feed(html)"
   ]
  },
  {
   "cell_type": "markdown",
   "id": "d285a056",
   "metadata": {},
   "source": [
    "Question 7\n",
    "Implement recursive function webdir() that takes as input: a URL (as a string) and \n",
    "non-negative integers depth and indent. Your function should visit every web \n",
    "page reachable from the starting URL web page in depth clicks or less, and print \n",
    "each web page's URL. As shown below, indentation, specified by indent, should \n",
    "be used to indicate the depth of a URL.\n",
    ">>> \n",
    "webdir('http://reed.cs.depaul.edu/lperkovic/csc242/test1.html'\n",
    ", 2, 0)\n",
    "http://reed.cs.depaul.edu/lperkovic/csc242/test1.html\n",
    " http://reed.cs.depaul.edu/lperkovic/csc242/test2.html\n",
    " http://reed.cs.depaul.edu/lperkovic/csc242/test4.html\n",
    " http://reed.cs.depaul.edu/lperkovic/csc242/test3.html\n",
    " http://reed.cs.depaul.edu/lperkovic/csc242/test4.html\n"
   ]
  },
  {
   "cell_type": "markdown",
   "id": "cd6f8e1d",
   "metadata": {},
   "source": [
    "Answer"
   ]
  },
  {
   "cell_type": "code",
   "execution_count": 17,
   "id": "1c685b42",
   "metadata": {
    "scrolled": true
   },
   "outputs": [
    {
     "name": "stdout",
     "output_type": "stream",
     "text": [
      "https://pubads.g.doubleclick.net/gampad/ad?iu=5876/miscsz=728x90&c=123456789\n",
      "\thttp://www.cbc.ca\n",
      "\t\t/sitemap/\n",
      "\t\thttps://www.cbc.ca\n",
      "\t\thttps://www.cbc.ca/television/\n",
      "\t\thttps://www.cbc.ca/radio/\n",
      "\t\thttps://www.cbc.ca/news\n",
      "\t\thttps://www.cbc.ca/sports\n",
      "\t\thttps://www.cbcmusic.ca/\n",
      "\t\thttps://www.cbc.ca/life\n",
      "\t\t/arts/\n",
      "\t\thttps://www.cbc.ca/kidscbc2/\n",
      "\t\thttps://www.cbc.ca/news/canada#region-nav\n",
      "\t\thttps://www.cbc.ca/documentaries/\n",
      "\t\thttps://www.cbc.ca/comedy\n",
      "\t\thttps://www.cbc.ca/books/\n",
      "\t\thttps://www.cbc.ca/parents/\n",
      "\t\thttps://www.cbc.ca/news/indigenous\n",
      "\t\thttps://www.cbc.ca/archives/\n",
      "\t\thttps://www.cbc.ca/kids/games/\n",
      "\t\thttp://www.cbc.ca/contests/\n",
      "\t\thttps://www.cbc.ca/mycbc/\n",
      "\t\thttps://www.cbc.ca/sitemap/\n",
      "\t\thttps://cbchelp.cbc.ca/hc/en-ca/categories/115000249853-Help-with-CBC-Apps\n",
      "\t\thttps://www.cbc.ca/rss/\n",
      "\t\thttps://www.cbc.ca/radio/podcasts/\n",
      "\t\thttps://subscriptions.cbc.ca/listmanagement\n",
      "\t\thttp://www.cbc.radio-canada.ca/en\n",
      "\t\thttps://www.cbc.ca/appearances/\n",
      "\t\thttps://cbchelp.cbc.ca/hc/en-us/sections/203864688-Using-or-licensing-CBC-content\n",
      "\t\thttps://www.cbc.ca/aboutcbc/discover/termsofuse.html\n",
      "\t\thttps://www.cbc.ca/aboutcbc/discover/privacy.html\n",
      "\t\thttps://www.cbcshop.ca/\n",
      "\t\thttps://cbchelp.cbc.ca\n",
      "\t\thttps://cbchelp.cbc.ca/hc/en-ca/requests/new\n",
      "\t\thttp://www.cbc.radio-canada.ca/en/explore/jobs/\n",
      "\t\thttp://www.cbc.radio-canada.ca/en/explore/doing-business-with-us/\n",
      "\t\t/productionfacilities/\n",
      "\t\thttp://www.cbc.radio-canada.ca/\n",
      "\t\thttps://ici.radio-canada.ca/\n"
     ]
    }
   ],
   "source": [
    "import requests\n",
    "from bs4 import BeautifulSoup\n",
    "\n",
    "def webdir(base, path, visited, depth=3, indent=0):\n",
    "    if indent < depth:\n",
    "        try:\n",
    "            soup = BeautifulSoup(requests.get(base + path).text, \"html.parser\")\n",
    "            for link in soup.find_all(\"a\"):\n",
    "                href = link.get(\"href\")\n",
    "                if href not in visited:\n",
    "                    visited.add(href)\n",
    "                    print_in_indentation(indent, href)\n",
    "                    webdir(base, href, visited, depth, indent + 1 )\n",
    "        except:\n",
    "            pass\n",
    "\n",
    "def print_in_indentation(indent, href):\n",
    "    for indentation in range(indent):\n",
    "        print (\"\\t\" , end = '')\n",
    "    print(href)\n",
    "    \n",
    "webdir(\"https://www.cbc.ca/contents\", \"\", set([\"https://www.cbc.ca/\"]), 3, 0)"
   ]
  },
  {
   "cell_type": "markdown",
   "id": "3b44abe4",
   "metadata": {},
   "source": [
    "Question 8\n",
    "Write SQL queries on the below database table that return: \n",
    "a) All the temperature data.\n",
    "b) All the cities, but without repetition.\n",
    "c) All the records for India.\n",
    "d) All the Fall records.\n",
    "e) The city, country, and season for which the average rainfall is between 200 \n",
    "and 400 millimeters.\n",
    "f) The city and country for which the average Fall temperature is above 20 \n",
    "degrees, in increasing temperature order.\n",
    "g) The total annual rainfall for Cairo.\n",
    "h) The total rainfall for each season."
   ]
  },
  {
   "cell_type": "code",
   "execution_count": 12,
   "id": "2b640862",
   "metadata": {},
   "outputs": [
    {
     "name": "stdout",
     "output_type": "stream",
     "text": [
      "Requirement already satisfied: ipython-sql in c:\\users\\shali\\anaconda3\\lib\\site-packages (0.4.1)\n",
      "Requirement already satisfied: sqlparse in c:\\users\\shali\\anaconda3\\lib\\site-packages (from ipython-sql) (0.4.2)\n",
      "Requirement already satisfied: six in c:\\users\\shali\\anaconda3\\lib\\site-packages (from ipython-sql) (1.16.0)\n",
      "Requirement already satisfied: ipython>=1.0 in c:\\users\\shali\\anaconda3\\lib\\site-packages (from ipython-sql) (8.2.0)\n",
      "Requirement already satisfied: ipython-genutils>=0.1.0 in c:\\users\\shali\\anaconda3\\lib\\site-packages (from ipython-sql) (0.2.0)\n",
      "Requirement already satisfied: sqlalchemy>=0.6.7 in c:\\users\\shali\\anaconda3\\lib\\site-packages (from ipython-sql) (1.4.32)\n",
      "Requirement already satisfied: prettytable<1 in c:\\users\\shali\\anaconda3\\lib\\site-packages (from ipython-sql) (0.7.2)\n",
      "Requirement already satisfied: setuptools>=18.5 in c:\\users\\shali\\anaconda3\\lib\\site-packages (from ipython>=1.0->ipython-sql) (61.2.0)\n",
      "Requirement already satisfied: matplotlib-inline in c:\\users\\shali\\anaconda3\\lib\\site-packages (from ipython>=1.0->ipython-sql) (0.1.2)\n",
      "Requirement already satisfied: traitlets>=5 in c:\\users\\shali\\anaconda3\\lib\\site-packages (from ipython>=1.0->ipython-sql) (5.1.1)\n",
      "Requirement already satisfied: backcall in c:\\users\\shali\\anaconda3\\lib\\site-packages (from ipython>=1.0->ipython-sql) (0.2.0)\n",
      "Requirement already satisfied: decorator in c:\\users\\shali\\anaconda3\\lib\\site-packages (from ipython>=1.0->ipython-sql) (5.1.1)\n",
      "Requirement already satisfied: prompt-toolkit!=3.0.0,!=3.0.1,<3.1.0,>=2.0.0 in c:\\users\\shali\\anaconda3\\lib\\site-packages (from ipython>=1.0->ipython-sql) (3.0.20)\n",
      "Requirement already satisfied: jedi>=0.16 in c:\\users\\shali\\anaconda3\\lib\\site-packages (from ipython>=1.0->ipython-sql) (0.18.1)\n",
      "Requirement already satisfied: pygments>=2.4.0 in c:\\users\\shali\\anaconda3\\lib\\site-packages (from ipython>=1.0->ipython-sql) (2.11.2)\n",
      "Requirement already satisfied: stack-data in c:\\users\\shali\\anaconda3\\lib\\site-packages (from ipython>=1.0->ipython-sql) (0.2.0)\n",
      "Requirement already satisfied: colorama in c:\\users\\shali\\anaconda3\\lib\\site-packages (from ipython>=1.0->ipython-sql) (0.4.4)\n",
      "Requirement already satisfied: pickleshare in c:\\users\\shali\\anaconda3\\lib\\site-packages (from ipython>=1.0->ipython-sql) (0.7.5)\n",
      "Requirement already satisfied: parso<0.9.0,>=0.8.0 in c:\\users\\shali\\anaconda3\\lib\\site-packages (from jedi>=0.16->ipython>=1.0->ipython-sql) (0.8.3)\n",
      "Requirement already satisfied: wcwidth in c:\\users\\shali\\anaconda3\\lib\\site-packages (from prompt-toolkit!=3.0.0,!=3.0.1,<3.1.0,>=2.0.0->ipython>=1.0->ipython-sql) (0.2.5)\n",
      "Requirement already satisfied: greenlet!=0.4.17 in c:\\users\\shali\\anaconda3\\lib\\site-packages (from sqlalchemy>=0.6.7->ipython-sql) (1.1.1)\n",
      "Requirement already satisfied: pure-eval in c:\\users\\shali\\anaconda3\\lib\\site-packages (from stack-data->ipython>=1.0->ipython-sql) (0.2.2)\n",
      "Requirement already satisfied: executing in c:\\users\\shali\\anaconda3\\lib\\site-packages (from stack-data->ipython>=1.0->ipython-sql) (0.8.3)\n",
      "Requirement already satisfied: asttokens in c:\\users\\shali\\anaconda3\\lib\\site-packages (from stack-data->ipython>=1.0->ipython-sql) (2.0.5)\n"
     ]
    }
   ],
   "source": [
    "!pip install ipython-sql"
   ]
  },
  {
   "cell_type": "code",
   "execution_count": 16,
   "id": "a14d0d22",
   "metadata": {},
   "outputs": [],
   "source": [
    "# import libraries\n",
    "import pandas as pd\n",
    "import sqlite3\n"
   ]
  },
  {
   "cell_type": "code",
   "execution_count": 17,
   "id": "ae9fd1a8",
   "metadata": {},
   "outputs": [
    {
     "data": {
      "text/html": [
       "<div>\n",
       "<style scoped>\n",
       "    .dataframe tbody tr th:only-of-type {\n",
       "        vertical-align: middle;\n",
       "    }\n",
       "\n",
       "    .dataframe tbody tr th {\n",
       "        vertical-align: top;\n",
       "    }\n",
       "\n",
       "    .dataframe thead th {\n",
       "        text-align: right;\n",
       "    }\n",
       "</style>\n",
       "<table border=\"1\" class=\"dataframe\">\n",
       "  <thead>\n",
       "    <tr style=\"text-align: right;\">\n",
       "      <th></th>\n",
       "      <th>City</th>\n",
       "      <th>Country</th>\n",
       "      <th>Season</th>\n",
       "      <th>Temperature</th>\n",
       "      <th>Rainfall</th>\n",
       "    </tr>\n",
       "  </thead>\n",
       "  <tbody>\n",
       "    <tr>\n",
       "      <th>0</th>\n",
       "      <td>Mumbai</td>\n",
       "      <td>India</td>\n",
       "      <td>Winter</td>\n",
       "      <td>24.8</td>\n",
       "      <td>5.9</td>\n",
       "    </tr>\n",
       "    <tr>\n",
       "      <th>1</th>\n",
       "      <td>Mumbai</td>\n",
       "      <td>India</td>\n",
       "      <td>Spring</td>\n",
       "      <td>28.4</td>\n",
       "      <td>16.2</td>\n",
       "    </tr>\n",
       "    <tr>\n",
       "      <th>2</th>\n",
       "      <td>Mumbai</td>\n",
       "      <td>India</td>\n",
       "      <td>Summer</td>\n",
       "      <td>27.9</td>\n",
       "      <td>1549.4</td>\n",
       "    </tr>\n",
       "    <tr>\n",
       "      <th>3</th>\n",
       "      <td>Mumbai</td>\n",
       "      <td>India</td>\n",
       "      <td>Fall</td>\n",
       "      <td>27.6</td>\n",
       "      <td>346.0</td>\n",
       "    </tr>\n",
       "    <tr>\n",
       "      <th>4</th>\n",
       "      <td>London</td>\n",
       "      <td>United Kingdom</td>\n",
       "      <td>Winter</td>\n",
       "      <td>4.2</td>\n",
       "      <td>207.7</td>\n",
       "    </tr>\n",
       "    <tr>\n",
       "      <th>5</th>\n",
       "      <td>London</td>\n",
       "      <td>United Kingdom</td>\n",
       "      <td>Spring</td>\n",
       "      <td>8.3</td>\n",
       "      <td>169.6</td>\n",
       "    </tr>\n",
       "    <tr>\n",
       "      <th>6</th>\n",
       "      <td>London</td>\n",
       "      <td>United Kingdom</td>\n",
       "      <td>Summer</td>\n",
       "      <td>15.7</td>\n",
       "      <td>157.0</td>\n",
       "    </tr>\n",
       "    <tr>\n",
       "      <th>7</th>\n",
       "      <td>London</td>\n",
       "      <td>United Kingdom</td>\n",
       "      <td>Fall</td>\n",
       "      <td>10.4</td>\n",
       "      <td>218.5</td>\n",
       "    </tr>\n",
       "    <tr>\n",
       "      <th>8</th>\n",
       "      <td>Cairo</td>\n",
       "      <td>Egypt</td>\n",
       "      <td>Winter</td>\n",
       "      <td>13.6</td>\n",
       "      <td>16.5</td>\n",
       "    </tr>\n",
       "    <tr>\n",
       "      <th>9</th>\n",
       "      <td>Cairo</td>\n",
       "      <td>Egypt</td>\n",
       "      <td>Spring</td>\n",
       "      <td>20.7</td>\n",
       "      <td>6.5</td>\n",
       "    </tr>\n",
       "    <tr>\n",
       "      <th>10</th>\n",
       "      <td>Cairo</td>\n",
       "      <td>Egypt</td>\n",
       "      <td>Summer</td>\n",
       "      <td>27.7</td>\n",
       "      <td>0.1</td>\n",
       "    </tr>\n",
       "    <tr>\n",
       "      <th>11</th>\n",
       "      <td>Cairo</td>\n",
       "      <td>Egypt</td>\n",
       "      <td>Fall</td>\n",
       "      <td>22.2</td>\n",
       "      <td>4.5</td>\n",
       "    </tr>\n",
       "  </tbody>\n",
       "</table>\n",
       "</div>"
      ],
      "text/plain": [
       "      City         Country  Season Temperature Rainfall\n",
       "0   Mumbai           India  Winter        24.8      5.9\n",
       "1   Mumbai           India  Spring        28.4     16.2\n",
       "2   Mumbai           India  Summer        27.9   1549.4\n",
       "3   Mumbai           India    Fall        27.6    346.0\n",
       "4   London  United Kingdom  Winter         4.2    207.7\n",
       "5   London  United Kingdom  Spring         8.3    169.6\n",
       "6   London  United Kingdom  Summer        15.7    157.0\n",
       "7   London  United Kingdom    Fall        10.4    218.5\n",
       "8    Cairo           Egypt  Winter        13.6     16.5\n",
       "9    Cairo           Egypt  Spring        20.7      6.5\n",
       "10   Cairo           Egypt  Summer        27.7      0.1\n",
       "11   Cairo           Egypt    Fall        22.2      4.5"
      ]
     },
     "execution_count": 17,
     "metadata": {},
     "output_type": "execute_result"
    }
   ],
   "source": [
    "df= pd.DataFrame({'City': ['Mumbai', 'Mumbai', 'Mumbai', 'Mumbai', 'London', 'London', 'London', 'London', 'Cairo', 'Cairo', 'Cairo', 'Cairo'], \n",
    "                  'Country': ['India', 'India', 'India', 'India', 'United Kingdom', 'United Kingdom', 'United Kingdom', 'United Kingdom', 'Egypt', 'Egypt', 'Egypt', 'Egypt'], \n",
    "                  'Season': ['Winter', 'Spring','Summer', 'Fall','Winter', 'Spring', 'Summer', 'Fall', 'Winter', 'Spring', 'Summer', 'Fall'], \n",
    "                  'Temperature':['24.8', '28.4', '27.9', '27.6', '4.2', '8.3', '15.7', '10.4', '13.6', '20.7', '27.7', '22.2'], \n",
    "                  'Rainfall': ['5.9', '16.2', '1549.4', '346.0', '207.7', '169.6', '157.0', '218.5', '16.5', '6.5', '0.1', '4.5']})\n",
    "\n",
    "df"
   ]
  },
  {
   "cell_type": "code",
   "execution_count": 18,
   "id": "191fb2eb",
   "metadata": {},
   "outputs": [
    {
     "name": "stdout",
     "output_type": "stream",
     "text": [
      "The sql extension is already loaded. To reload it, use:\n",
      "  %reload_ext sql\n"
     ]
    }
   ],
   "source": [
    "%load_ext sql\n",
    "%sql sqlite://\n"
   ]
  },
  {
   "cell_type": "code",
   "execution_count": 20,
   "id": "4801f54b",
   "metadata": {},
   "outputs": [
    {
     "name": "stdout",
     "output_type": "stream",
     "text": [
      "The sql extension is already loaded. To reload it, use:\n",
      "  %reload_ext sql\n"
     ]
    }
   ],
   "source": [
    "conn = sqlite3.connect('Shalini.db')\n",
    "\n",
    "df.to_sql('Weather1', conn)\n",
    "%load_ext sql\n",
    "\n",
    "%sql sqlite:///Shalini.db"
   ]
  },
  {
   "cell_type": "code",
   "execution_count": 21,
   "id": "556ba5bf",
   "metadata": {},
   "outputs": [
    {
     "name": "stdout",
     "output_type": "stream",
     "text": [
      "   sqlite://\n",
      " * sqlite:///Shalini.db\n",
      "Done.\n"
     ]
    },
    {
     "data": {
      "text/html": [
       "<table>\n",
       "    <tr>\n",
       "        <th>Temperature</th>\n",
       "    </tr>\n",
       "    <tr>\n",
       "        <td>24.8</td>\n",
       "    </tr>\n",
       "    <tr>\n",
       "        <td>28.4</td>\n",
       "    </tr>\n",
       "    <tr>\n",
       "        <td>27.9</td>\n",
       "    </tr>\n",
       "    <tr>\n",
       "        <td>27.6</td>\n",
       "    </tr>\n",
       "    <tr>\n",
       "        <td>4.2</td>\n",
       "    </tr>\n",
       "    <tr>\n",
       "        <td>8.3</td>\n",
       "    </tr>\n",
       "    <tr>\n",
       "        <td>15.7</td>\n",
       "    </tr>\n",
       "    <tr>\n",
       "        <td>10.4</td>\n",
       "    </tr>\n",
       "    <tr>\n",
       "        <td>13.6</td>\n",
       "    </tr>\n",
       "    <tr>\n",
       "        <td>20.7</td>\n",
       "    </tr>\n",
       "    <tr>\n",
       "        <td>27.7</td>\n",
       "    </tr>\n",
       "    <tr>\n",
       "        <td>22.2</td>\n",
       "    </tr>\n",
       "</table>"
      ],
      "text/plain": [
       "[('24.8',),\n",
       " ('28.4',),\n",
       " ('27.9',),\n",
       " ('27.6',),\n",
       " ('4.2',),\n",
       " ('8.3',),\n",
       " ('15.7',),\n",
       " ('10.4',),\n",
       " ('13.6',),\n",
       " ('20.7',),\n",
       " ('27.7',),\n",
       " ('22.2',)]"
      ]
     },
     "execution_count": 21,
     "metadata": {},
     "output_type": "execute_result"
    }
   ],
   "source": [
    "%%sql\n",
    "SELECT Temperature\n",
    "FROM Weather1"
   ]
  },
  {
   "cell_type": "code",
   "execution_count": 22,
   "id": "5f76ff90",
   "metadata": {},
   "outputs": [
    {
     "name": "stdout",
     "output_type": "stream",
     "text": [
      "   sqlite://\n",
      " * sqlite:///Shalini.db\n",
      "Done.\n"
     ]
    },
    {
     "data": {
      "text/html": [
       "<table>\n",
       "    <tr>\n",
       "        <th>City</th>\n",
       "    </tr>\n",
       "    <tr>\n",
       "        <td>Mumbai</td>\n",
       "    </tr>\n",
       "    <tr>\n",
       "        <td>London</td>\n",
       "    </tr>\n",
       "    <tr>\n",
       "        <td>Cairo</td>\n",
       "    </tr>\n",
       "</table>"
      ],
      "text/plain": [
       "[('Mumbai',), ('London',), ('Cairo',)]"
      ]
     },
     "execution_count": 22,
     "metadata": {},
     "output_type": "execute_result"
    }
   ],
   "source": [
    "%%sql\n",
    "SELECT Distinct City\n",
    "FROM Weather1"
   ]
  },
  {
   "cell_type": "code",
   "execution_count": 23,
   "id": "7452df79",
   "metadata": {},
   "outputs": [
    {
     "name": "stdout",
     "output_type": "stream",
     "text": [
      "   sqlite://\n",
      " * sqlite:///Shalini.db\n",
      "Done.\n"
     ]
    },
    {
     "data": {
      "text/html": [
       "<table>\n",
       "    <tr>\n",
       "        <th>index</th>\n",
       "        <th>City</th>\n",
       "        <th>Country</th>\n",
       "        <th>Season</th>\n",
       "        <th>Temperature</th>\n",
       "        <th>Rainfall</th>\n",
       "    </tr>\n",
       "    <tr>\n",
       "        <td>0</td>\n",
       "        <td>Mumbai</td>\n",
       "        <td>India</td>\n",
       "        <td>Winter</td>\n",
       "        <td>24.8</td>\n",
       "        <td>5.9</td>\n",
       "    </tr>\n",
       "    <tr>\n",
       "        <td>1</td>\n",
       "        <td>Mumbai</td>\n",
       "        <td>India</td>\n",
       "        <td>Spring</td>\n",
       "        <td>28.4</td>\n",
       "        <td>16.2</td>\n",
       "    </tr>\n",
       "    <tr>\n",
       "        <td>2</td>\n",
       "        <td>Mumbai</td>\n",
       "        <td>India</td>\n",
       "        <td>Summer</td>\n",
       "        <td>27.9</td>\n",
       "        <td>1549.4</td>\n",
       "    </tr>\n",
       "    <tr>\n",
       "        <td>3</td>\n",
       "        <td>Mumbai</td>\n",
       "        <td>India</td>\n",
       "        <td>Fall</td>\n",
       "        <td>27.6</td>\n",
       "        <td>346.0</td>\n",
       "    </tr>\n",
       "</table>"
      ],
      "text/plain": [
       "[(0, 'Mumbai', 'India', 'Winter', '24.8', '5.9'),\n",
       " (1, 'Mumbai', 'India', 'Spring', '28.4', '16.2'),\n",
       " (2, 'Mumbai', 'India', 'Summer', '27.9', '1549.4'),\n",
       " (3, 'Mumbai', 'India', 'Fall', '27.6', '346.0')]"
      ]
     },
     "execution_count": 23,
     "metadata": {},
     "output_type": "execute_result"
    }
   ],
   "source": [
    "%%sql\n",
    "SELECT *\n",
    "FROM Weather1 Where Country = 'India'"
   ]
  },
  {
   "cell_type": "code",
   "execution_count": 24,
   "id": "3a77e664",
   "metadata": {},
   "outputs": [
    {
     "name": "stdout",
     "output_type": "stream",
     "text": [
      "   sqlite://\n",
      " * sqlite:///Shalini.db\n",
      "Done.\n"
     ]
    },
    {
     "data": {
      "text/html": [
       "<table>\n",
       "    <tr>\n",
       "        <th>index</th>\n",
       "        <th>City</th>\n",
       "        <th>Country</th>\n",
       "        <th>Season</th>\n",
       "        <th>Temperature</th>\n",
       "        <th>Rainfall</th>\n",
       "    </tr>\n",
       "    <tr>\n",
       "        <td>3</td>\n",
       "        <td>Mumbai</td>\n",
       "        <td>India</td>\n",
       "        <td>Fall</td>\n",
       "        <td>27.6</td>\n",
       "        <td>346.0</td>\n",
       "    </tr>\n",
       "    <tr>\n",
       "        <td>7</td>\n",
       "        <td>London</td>\n",
       "        <td>United Kingdom</td>\n",
       "        <td>Fall</td>\n",
       "        <td>10.4</td>\n",
       "        <td>218.5</td>\n",
       "    </tr>\n",
       "    <tr>\n",
       "        <td>11</td>\n",
       "        <td>Cairo</td>\n",
       "        <td>Egypt</td>\n",
       "        <td>Fall</td>\n",
       "        <td>22.2</td>\n",
       "        <td>4.5</td>\n",
       "    </tr>\n",
       "</table>"
      ],
      "text/plain": [
       "[(3, 'Mumbai', 'India', 'Fall', '27.6', '346.0'),\n",
       " (7, 'London', 'United Kingdom', 'Fall', '10.4', '218.5'),\n",
       " (11, 'Cairo', 'Egypt', 'Fall', '22.2', '4.5')]"
      ]
     },
     "execution_count": 24,
     "metadata": {},
     "output_type": "execute_result"
    }
   ],
   "source": [
    "%%sql\n",
    "SELECT *\n",
    "FROM Weather1 Where Season = 'Fall'"
   ]
  },
  {
   "cell_type": "code",
   "execution_count": 25,
   "id": "2af4dbc6",
   "metadata": {},
   "outputs": [
    {
     "name": "stdout",
     "output_type": "stream",
     "text": [
      "   sqlite://\n",
      " * sqlite:///Shalini.db\n",
      "Done.\n"
     ]
    },
    {
     "data": {
      "text/html": [
       "<table>\n",
       "    <tr>\n",
       "        <th>City</th>\n",
       "        <th>Country</th>\n",
       "        <th>Season</th>\n",
       "    </tr>\n",
       "    <tr>\n",
       "        <td>Mumbai</td>\n",
       "        <td>India</td>\n",
       "        <td>Fall</td>\n",
       "    </tr>\n",
       "    <tr>\n",
       "        <td>London</td>\n",
       "        <td>United Kingdom</td>\n",
       "        <td>Winter</td>\n",
       "    </tr>\n",
       "    <tr>\n",
       "        <td>London</td>\n",
       "        <td>United Kingdom</td>\n",
       "        <td>Fall</td>\n",
       "    </tr>\n",
       "    <tr>\n",
       "        <td>Cairo</td>\n",
       "        <td>Egypt</td>\n",
       "        <td>Fall</td>\n",
       "    </tr>\n",
       "</table>"
      ],
      "text/plain": [
       "[('Mumbai', 'India', 'Fall'),\n",
       " ('London', 'United Kingdom', 'Winter'),\n",
       " ('London', 'United Kingdom', 'Fall'),\n",
       " ('Cairo', 'Egypt', 'Fall')]"
      ]
     },
     "execution_count": 25,
     "metadata": {},
     "output_type": "execute_result"
    }
   ],
   "source": [
    "%%sql\n",
    "SELECT City, Country, Season\n",
    "FROM Weather1 Where Rainfall BETWEEN 200 AND 400"
   ]
  },
  {
   "cell_type": "code",
   "execution_count": 26,
   "id": "43f3ae38",
   "metadata": {},
   "outputs": [
    {
     "name": "stdout",
     "output_type": "stream",
     "text": [
      "   sqlite://\n",
      " * sqlite:///Shalini.db\n",
      "Done.\n"
     ]
    },
    {
     "data": {
      "text/html": [
       "<table>\n",
       "    <tr>\n",
       "        <th>City</th>\n",
       "        <th>Country</th>\n",
       "    </tr>\n",
       "    <tr>\n",
       "        <td>Cairo</td>\n",
       "        <td>Egypt</td>\n",
       "    </tr>\n",
       "    <tr>\n",
       "        <td>Mumbai</td>\n",
       "        <td>India</td>\n",
       "    </tr>\n",
       "</table>"
      ],
      "text/plain": [
       "[('Cairo', 'Egypt'), ('Mumbai', 'India')]"
      ]
     },
     "execution_count": 26,
     "metadata": {},
     "output_type": "execute_result"
    }
   ],
   "source": [
    "%%sql\n",
    "SELECT City, Country\n",
    "FROM Weather1 Where Season = 'Fall' AND Temperature > 20 ORDER BY Temperature"
   ]
  },
  {
   "cell_type": "code",
   "execution_count": 27,
   "id": "907410f2",
   "metadata": {},
   "outputs": [
    {
     "name": "stdout",
     "output_type": "stream",
     "text": [
      "   sqlite://\n",
      " * sqlite:///Shalini.db\n",
      "Done.\n"
     ]
    },
    {
     "data": {
      "text/html": [
       "<table>\n",
       "    <tr>\n",
       "        <th>SUM(Rainfall)</th>\n",
       "    </tr>\n",
       "    <tr>\n",
       "        <td>27.6</td>\n",
       "    </tr>\n",
       "</table>"
      ],
      "text/plain": [
       "[(27.6,)]"
      ]
     },
     "execution_count": 27,
     "metadata": {},
     "output_type": "execute_result"
    }
   ],
   "source": [
    "%%sql\n",
    "SELECT SUM(Rainfall)\n",
    "FROM Weather1 Where City = 'Cairo'"
   ]
  },
  {
   "cell_type": "code",
   "execution_count": 28,
   "id": "d81f9316",
   "metadata": {},
   "outputs": [
    {
     "name": "stdout",
     "output_type": "stream",
     "text": [
      "   sqlite://\n",
      " * sqlite:///Shalini.db\n",
      "Done.\n"
     ]
    },
    {
     "data": {
      "text/html": [
       "<table>\n",
       "    <tr>\n",
       "        <th>Season</th>\n",
       "        <th>SUM(Rainfall)</th>\n",
       "    </tr>\n",
       "    <tr>\n",
       "        <td>Fall</td>\n",
       "        <td>569.0</td>\n",
       "    </tr>\n",
       "    <tr>\n",
       "        <td>Spring</td>\n",
       "        <td>192.29999999999998</td>\n",
       "    </tr>\n",
       "    <tr>\n",
       "        <td>Summer</td>\n",
       "        <td>1706.5</td>\n",
       "    </tr>\n",
       "    <tr>\n",
       "        <td>Winter</td>\n",
       "        <td>230.1</td>\n",
       "    </tr>\n",
       "</table>"
      ],
      "text/plain": [
       "[('Fall', 569.0),\n",
       " ('Spring', 192.29999999999998),\n",
       " ('Summer', 1706.5),\n",
       " ('Winter', 230.1)]"
      ]
     },
     "execution_count": 28,
     "metadata": {},
     "output_type": "execute_result"
    }
   ],
   "source": [
    "%%sql\n",
    "SELECT Season, SUM(Rainfall)\n",
    "FROM Weather1 GROUP BY Season"
   ]
  },
  {
   "cell_type": "markdown",
   "id": "74069f2e",
   "metadata": {},
   "source": [
    "Question 9"
   ]
  },
  {
   "cell_type": "markdown",
   "id": "b959f487",
   "metadata": {},
   "source": [
    "\n",
    ". Suppose list words is defined as follows:\n",
    ">>> words = ['The', 'quick', 'brown', 'fox', 'jumps', 'over', \n",
    "'the', 'lazy', 'dog']\n",
    "Write list comprehension expressions that use list words and generate the following \n",
    "lists:\n",
    "a) ['THE', 'QUICK', 'BROWN', 'FOX', 'JUMPS', 'OVER', 'THE', \n",
    "'LAZY', 'DOG']\n",
    "b) ['the', 'quick', 'brown', 'fox', 'jumps', 'over', 'the', \n",
    "'lazy', 'dog']\n",
    "c) [3, 5, 5, 3, 5, 4, 3, 4, 3] (the list of lengths of words in list \n",
    "words).\n",
    "d) [['THE', 'the', 3], ['QUICK', 'quick', 5], ['BROWN', \n",
    "'brown', 5], ['FOX', 'fox', 3], ['JUMPS', 'jumps', 5], \n",
    "['OVER', 'over', 4], ['THE', 'the', 3], ['LAZY', 'lazy', \n",
    "4], ['DOG', 'dog', 3]] (the list containing a list for every word of list \n",
    "words, where each list contains the word in uppercase and lowercase and the \n",
    "length of the word.)\n",
    "e) ['The', 'quick', 'brown', 'fox', 'jumps', 'over', 'the', \n",
    "'lazy', 'dog'] (the list of words in list words containing 4 or more \n",
    "characters.)"
   ]
  },
  {
   "cell_type": "markdown",
   "id": "4e092414",
   "metadata": {},
   "source": [
    "Answer"
   ]
  },
  {
   "cell_type": "code",
   "execution_count": 29,
   "id": "7e3797d1",
   "metadata": {},
   "outputs": [
    {
     "name": "stdout",
     "output_type": "stream",
     "text": [
      "['THE', 'QUICK', 'BROWN', 'FOX', 'JUMPS', 'OVER', 'THE', 'LAZY', 'DOG']\n",
      "['the', 'quick', 'brown', 'fox', 'jumps', 'over', 'the', 'lazy', 'dog']\n",
      "[3, 5, 5, 3, 5, 4, 3, 4, 3]\n",
      "[['THE', 'the', 3], ['QUICK', 'quick', 5], ['BROWN', 'brown', 5], ['FOX', 'fox', 3], ['JUMPS', 'jumps', 5], ['OVER', 'over', 4], ['THE', 'the', 3], ['LAZY', 'lazy', 4], ['DOG', 'dog', 3]]\n",
      "['quick', 'brown', 'jumps', 'over', 'lazy']\n"
     ]
    }
   ],
   "source": [
    "words = ['The', 'quick', 'brown', 'fox', 'jumps', 'over', \n",
    "'the', 'lazy', 'dog']\n",
    "upper_case = []\n",
    "lower_case = []\n",
    "string_length = []\n",
    "word_info_arr = []\n",
    "word_filter = []\n",
    "for word in words:\n",
    "    upper_case.append(word.upper())\n",
    "    lower_case.append(word.lower())\n",
    "    string_length.append(len(word))\n",
    "    word_info_arr.append([word.upper(), word.lower(), len(word)])\n",
    "    if len(word) > 3:\n",
    "        word_filter.append(word)\n",
    "print(upper_case)\n",
    "print(lower_case)\n",
    "print(string_length)\n",
    "print(word_info_arr)\n",
    "print(word_filter)"
   ]
  },
  {
   "cell_type": "code",
   "execution_count": null,
   "id": "d429a4b1",
   "metadata": {},
   "outputs": [],
   "source": []
  }
 ],
 "metadata": {
  "kernelspec": {
   "display_name": "Python 3 (ipykernel)",
   "language": "python",
   "name": "python3"
  },
  "language_info": {
   "codemirror_mode": {
    "name": "ipython",
    "version": 3
   },
   "file_extension": ".py",
   "mimetype": "text/x-python",
   "name": "python",
   "nbconvert_exporter": "python",
   "pygments_lexer": "ipython3",
   "version": "3.9.12"
  }
 },
 "nbformat": 4,
 "nbformat_minor": 5
}
